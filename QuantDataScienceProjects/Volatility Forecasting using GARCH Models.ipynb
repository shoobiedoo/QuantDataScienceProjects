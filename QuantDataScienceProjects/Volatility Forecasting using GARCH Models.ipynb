{
 "cells": [
  {
   "cell_type": "markdown",
   "id": "6baf92cc",
   "metadata": {},
   "source": [
    "## Data Collection"
   ]
  },
  {
   "cell_type": "code",
   "execution_count": 1,
   "id": "a48a1b9e",
   "metadata": {},
   "outputs": [],
   "source": [
    "import yfinance as yf\n",
    "\n",
    "def fetch_data(ticker, start_date, end_date):\n",
    "    stock_data = yf.download(ticker, start=start_date, end=end_date)\n",
    "    return stock_data['Close']\n"
   ]
  },
  {
   "cell_type": "markdown",
   "id": "2b4212e4",
   "metadata": {},
   "source": [
    "## Modeling\n",
    "Using the arch library to fit a GARCH(1,1) model:"
   ]
  },
  {
   "cell_type": "code",
   "execution_count": 2,
   "id": "470efab8",
   "metadata": {},
   "outputs": [],
   "source": [
    "from arch import arch_model\n",
    "\n",
    "def fit_garch(data):\n",
    "    model = arch_model(data, vol='Garch', p=1, q=1)\n",
    "    results = model.fit()\n",
    "    forecasts = results.forecast(start=0)\n",
    "    return forecasts.variance[-1:].values[0][0]\n"
   ]
  },
  {
   "cell_type": "markdown",
   "id": "d201d274",
   "metadata": {},
   "source": [
    "## Dash App creation"
   ]
  },
  {
   "cell_type": "code",
   "execution_count": 3,
   "id": "a7fcdf6b",
   "metadata": {},
   "outputs": [
    {
     "data": {
      "text/html": [
       "\n",
       "        <iframe\n",
       "            width=\"100%\"\n",
       "            height=\"650\"\n",
       "            src=\"http://127.0.0.1:8050/\"\n",
       "            frameborder=\"0\"\n",
       "            allowfullscreen\n",
       "            \n",
       "        ></iframe>\n",
       "        "
      ],
      "text/plain": [
       "<IPython.lib.display.IFrame at 0x1080889d0>"
      ]
     },
     "metadata": {},
     "output_type": "display_data"
    },
    {
     "name": "stdout",
     "output_type": "stream",
     "text": [
      "[*********************100%%**********************]  1 of 1 completed\n",
      "Iteration:      1,   Func. Count:      6,   Neg. LLF: 3254.492166910414\n",
      "Iteration:      2,   Func. Count:     13,   Neg. LLF: 1072.0405098947767\n",
      "Iteration:      3,   Func. Count:     18,   Neg. LLF: 1080.030896654886\n",
      "Iteration:      4,   Func. Count:     24,   Neg. LLF: 1282.4554133519446\n",
      "Iteration:      5,   Func. Count:     30,   Neg. LLF: 1183.7854212848827\n",
      "Iteration:      6,   Func. Count:     36,   Neg. LLF: 1183.8549904969586\n",
      "Iteration:      7,   Func. Count:     42,   Neg. LLF: 1196.9526343882299\n",
      "Iteration:      8,   Func. Count:     48,   Neg. LLF: 1204.9539733761953\n",
      "Iteration:      9,   Func. Count:     55,   Neg. LLF: 1024.754703201193\n",
      "Iteration:     10,   Func. Count:     60,   Neg. LLF: 1017.5812270181372\n",
      "Iteration:     11,   Func. Count:     65,   Neg. LLF: 1527.578598638857\n",
      "Iteration:     12,   Func. Count:     71,   Neg. LLF: 1705.4922077018919\n",
      "Iteration:     13,   Func. Count:     77,   Neg. LLF: 4036.8849904750755\n",
      "Iteration:     14,   Func. Count:     83,   Neg. LLF: 1717.4831272481354\n",
      "Iteration:     15,   Func. Count:     89,   Neg. LLF: 1856.5994481412063\n",
      "Iteration:     16,   Func. Count:     95,   Neg. LLF: 2363.1634044309603\n",
      "Iteration:     17,   Func. Count:    101,   Neg. LLF: 1062.2377836062387\n",
      "Iteration:     18,   Func. Count:    107,   Neg. LLF: 1034.8491764111561\n",
      "Iteration:     19,   Func. Count:    113,   Neg. LLF: 1048.5846729004502\n",
      "Iteration:     20,   Func. Count:    119,   Neg. LLF: 2778.7759335753235\n",
      "Iteration:     21,   Func. Count:    125,   Neg. LLF: 1429.1095625148284\n",
      "Iteration:     22,   Func. Count:    131,   Neg. LLF: 1042.1206297826125\n",
      "Iteration:     23,   Func. Count:    137,   Neg. LLF: 1076.0903790714815\n",
      "Iteration:     24,   Func. Count:    143,   Neg. LLF: 1008.5857775588527\n",
      "Iteration:     25,   Func. Count:    149,   Neg. LLF: 1002.8267890251552\n",
      "Iteration:     26,   Func. Count:    154,   Neg. LLF: 1002.7282650063127\n",
      "Iteration:     27,   Func. Count:    159,   Neg. LLF: 1002.705862680506\n",
      "Iteration:     28,   Func. Count:    164,   Neg. LLF: 1002.7042311888737\n",
      "Iteration:     29,   Func. Count:    169,   Neg. LLF: 1002.7041910391672\n",
      "Iteration:     30,   Func. Count:    174,   Neg. LLF: 1002.704188624744\n",
      "Iteration:     31,   Func. Count:    178,   Neg. LLF: 1002.7041885346147\n",
      "Optimization terminated successfully    (Exit mode 0)\n",
      "            Current function value: 1002.704188624744\n",
      "            Iterations: 32\n",
      "            Function evaluations: 178\n",
      "            Gradient evaluations: 31\n"
     ]
    },
    {
     "name": "stderr",
     "output_type": "stream",
     "text": [
      "/opt/homebrew/lib/python3.11/site-packages/arch/__future__/_utility.py:11: FutureWarning:\n",
      "\n",
      "\n",
      "The default for reindex is True. After September 2021 this will change to\n",
      "False. Set reindex to True or False to silence this message. Alternatively,\n",
      "you can use the import comment\n",
      "\n",
      "from arch.__future__ import reindexing\n",
      "\n",
      "to globally set reindex to True and silence this warning.\n",
      "\n",
      "\n"
     ]
    }
   ],
   "source": [
    "import dash\n",
    "from dash import dcc, html\n",
    "from dash.dependencies import Input, Output\n",
    "\n",
    "app = dash.Dash(__name__)\n",
    "\n",
    "app.layout = html.Div([\n",
    "    html.H1(\"Volatility Forecasting using GARCH\"),\n",
    "    dcc.Input(id='ticker-input', value='AAPL', type='text'),\n",
    "    dcc.DatePickerRange(\n",
    "        id='date-picker',\n",
    "        start_date='2020-01-01',\n",
    "        end_date='2021-01-01',\n",
    "        display_format='YYYY-MM-DD'\n",
    "    ),\n",
    "    html.Button('Submit', id='submit-button'),\n",
    "    html.Div(id='output-div')\n",
    "])\n",
    "\n",
    "@app.callback(\n",
    "    Output('output-div', 'children'),\n",
    "    [Input('submit-button', 'n_clicks')],\n",
    "    [dash.dependencies.State('ticker-input', 'value'),\n",
    "     dash.dependencies.State('date-picker', 'start_date'),\n",
    "     dash.dependencies.State('date-picker', 'end_date')]\n",
    ")\n",
    "def update_output(n_clicks, ticker, start_date, end_date):\n",
    "    if n_clicks is None:\n",
    "        return \"Enter a ticker and date range to forecast volatility.\"\n",
    "\n",
    "    data = fetch_data(ticker, start_date, end_date)\n",
    "    forecast = fit_garch(data)\n",
    "    return f'Forecasted volatility for {ticker} is: {forecast:.2f}'\n",
    "\n",
    "if __name__ == '__main__':\n",
    "    app.run_server(debug=True)\n"
   ]
  },
  {
   "cell_type": "code",
   "execution_count": null,
   "id": "11afb2bb",
   "metadata": {},
   "outputs": [],
   "source": []
  }
 ],
 "metadata": {
  "kernelspec": {
   "display_name": "Python 3 (ipykernel)",
   "language": "python",
   "name": "python3"
  },
  "language_info": {
   "codemirror_mode": {
    "name": "ipython",
    "version": 3
   },
   "file_extension": ".py",
   "mimetype": "text/x-python",
   "name": "python",
   "nbconvert_exporter": "python",
   "pygments_lexer": "ipython3",
   "version": "3.11.5"
  }
 },
 "nbformat": 4,
 "nbformat_minor": 5
}
