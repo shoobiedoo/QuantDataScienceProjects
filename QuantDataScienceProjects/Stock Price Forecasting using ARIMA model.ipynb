{
 "cells": [
  {
   "cell_type": "code",
   "execution_count": 25,
   "id": "2ba9fd0c",
   "metadata": {},
   "outputs": [],
   "source": [
    "import yfinance as yf\n",
    "import pandas as pd\n",
    "from statsmodels.tsa.arima.model import ARIMA\n",
    "import plotly.graph_objs as go\n",
    "\n",
    "def forecast_and_plot(ticker='AAPL', p=5, d=1, q=0, steps=10):\n",
    "    # Fetch stock prices\n",
    "    data = yf.download(ticker)\n",
    "    prices = data['Close'].asfreq('B')  # Assuming business days. Adjust if needed.\n",
    "\n",
    "\n",
    "    # Fit ARIMA model\n",
    "    model = ARIMA(prices, order=(p, d, q))\n",
    "    model_fit = model.fit()\n",
    "\n",
    "    # Forecast\n",
    "    forecast = model_fit.forecast(steps=steps)\n",
    "\n",
    "    # Create a plot\n",
    "    trace1 = go.Scatter(x=prices.index, y=prices, mode='lines', name='Actual Prices')\n",
    "    trace2 = go.Scatter(x=forecast.index, y=forecast, mode='lines', name='Forecasted Prices', line=dict(dash='dot'))\n",
    "\n",
    "    layout = go.Layout(title=f'{ticker} Stock Price Forecasting with ARIMA({p},{d},{q})')\n",
    "    fig = go.Figure(data=[ trace1,trace2], layout=layout)\n",
    "\n",
    "    return fig\n"
   ]
  },
  {
   "cell_type": "code",
   "execution_count": 26,
   "id": "edb58122",
   "metadata": {},
   "outputs": [
    {
     "data": {
      "text/html": [
       "\n",
       "        <iframe\n",
       "            width=\"100%\"\n",
       "            height=\"650\"\n",
       "            src=\"http://127.0.0.1:8050/\"\n",
       "            frameborder=\"0\"\n",
       "            allowfullscreen\n",
       "            \n",
       "        ></iframe>\n",
       "        "
      ],
      "text/plain": [
       "<IPython.lib.display.IFrame at 0x29df00bd0>"
      ]
     },
     "metadata": {},
     "output_type": "display_data"
    },
    {
     "name": "stdout",
     "output_type": "stream",
     "text": [
      "[*********************100%%**********************]  1 of 1 completed\n",
      "\n",
      "[*********************100%%**********************]  1 of 1 completed\n"
     ]
    }
   ],
   "source": [
    "import dash\n",
    "import dash_core_components as dcc\n",
    "import dash_html_components as html\n",
    "from dash.dependencies import Input, Output\n",
    "\n",
    "app = dash.Dash(__name__)\n",
    "\n",
    "app.layout = html.Div([\n",
    "    dcc.Input(id='ticker-input', value='AAPL', type='text'),\n",
    "    dcc.Input(id='p-input', value='5', type='number'),\n",
    "    dcc.Input(id='d-input', value='1', type='number'),\n",
    "    dcc.Input(id='q-input', value='0', type='number'),\n",
    "    html.Button('Submit', id='submit-button'),\n",
    "    dcc.Graph(id='forecast-plot')\n",
    "])\n",
    "\n",
    "@app.callback(\n",
    "    Output('forecast-plot', 'figure'),\n",
    "    [Input('submit-button', 'n_clicks')],\n",
    "    [dash.dependencies.State('ticker-input', 'value'),\n",
    "     dash.dependencies.State('p-input', 'value'),\n",
    "     dash.dependencies.State('d-input', 'value'),\n",
    "     dash.dependencies.State('q-input', 'value')]\n",
    ")\n",
    "def update_graph(n_clicks, ticker, p, d, q):\n",
    "    return forecast_and_plot(ticker=ticker, p=int(p), d=int(d), q=int(q))\n",
    "\n",
    "if __name__ == '__main__':\n",
    "    app.run_server(debug=True)\n"
   ]
  },
  {
   "cell_type": "code",
   "execution_count": 17,
   "id": "d1ef51d3",
   "metadata": {},
   "outputs": [
    {
     "data": {
      "text/html": [
       "\n",
       "        <iframe\n",
       "            width=\"100%\"\n",
       "            height=\"650\"\n",
       "            src=\"http://127.0.0.1:8050/\"\n",
       "            frameborder=\"0\"\n",
       "            allowfullscreen\n",
       "            \n",
       "        ></iframe>\n",
       "        "
      ],
      "text/plain": [
       "<IPython.lib.display.IFrame at 0x1055a9990>"
      ]
     },
     "metadata": {},
     "output_type": "display_data"
    }
   ],
   "source": [
    "import dash\n",
    "import dash_core_components as dcc\n",
    "import dash_html_components as html\n",
    "from dash.dependencies import Input, Output\n",
    "import yfinance as yf\n",
    "from statsmodels.tsa.arima.model import ARIMA\n",
    "\n",
    "# Download the historical stock data\n",
    "def fetch_data(ticker):\n",
    "    data = yf.download(ticker, start=\"2010-01-01\", end=\"2023-01-01\")\n",
    "    return data['Close'].asfreq('B')  # Assuming business days. Adjust if needed.\n",
    "\n",
    "# Forecast the stock prices using ARIMA\n",
    "def forecast_stock(ticker):\n",
    "    prices = fetch_data(ticker)\n",
    "    model = ARIMA(prices, order=(5, 1, 0))\n",
    "    model_fit = model.fit()\n",
    "    forecast = model_fit.forecast(steps=10)\n",
    "    return forecast\n",
    "\n",
    "app = dash.Dash(__name__)\n",
    "\n",
    "app.layout = html.Div([\n",
    "    html.H1(\"Stock Price Forecasting using ARIMA\"),\n",
    "    dcc.Input(id='stock-ticker', type='text', placeholder='Enter Stock Ticker (e.g., AAPL)'),\n",
    "    html.Button(\"Forecast\", id='forecast-button'),\n",
    "    dcc.Graph(id='forecast-graph')\n",
    "])\n",
    "\n",
    "@app.callback(\n",
    "    Output('forecast-graph', 'figure'),\n",
    "    [Input('forecast-button', 'n_clicks')],\n",
    "    [dash.dependencies.State('stock-ticker', 'value')]\n",
    ")\n",
    "def update_graph(n, ticker):\n",
    "    if not ticker or n is None:\n",
    "        return {}\n",
    "    forecast = forecast_stock(ticker)\n",
    "    return {\n",
    "        'data': [{'x': list(range(len(forecast))), 'y': forecast, 'type': 'line'}],\n",
    "        'layout': {'title': f'Stock Price Forecast for {ticker}'}\n",
    "    }\n",
    "\n",
    "if __name__ == '__main__':\n",
    "    app.run_server(debug=True)\n"
   ]
  },
  {
   "cell_type": "code",
   "execution_count": null,
   "id": "2e2af03b",
   "metadata": {},
   "outputs": [],
   "source": []
  },
  {
   "cell_type": "code",
   "execution_count": null,
   "id": "88517bef",
   "metadata": {},
   "outputs": [],
   "source": []
  }
 ],
 "metadata": {
  "kernelspec": {
   "display_name": "Python 3 (ipykernel)",
   "language": "python",
   "name": "python3"
  },
  "language_info": {
   "codemirror_mode": {
    "name": "ipython",
    "version": 3
   },
   "file_extension": ".py",
   "mimetype": "text/x-python",
   "name": "python",
   "nbconvert_exporter": "python",
   "pygments_lexer": "ipython3",
   "version": "3.11.5"
  }
 },
 "nbformat": 4,
 "nbformat_minor": 5
}
